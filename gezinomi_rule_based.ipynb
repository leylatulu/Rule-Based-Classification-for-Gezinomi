{
 "cells": [
  {
   "cell_type": "code",
   "execution_count": 1,
   "metadata": {},
   "outputs": [],
   "source": [
    "import pandas as pd\n",
    "import seaborn as sns\n",
    "pd.set_option('display.max_columns', None)\n",
    "pd.set_option('display.width', 500)"
   ]
  },
  {
   "cell_type": "code",
   "execution_count": 2,
   "metadata": {},
   "outputs": [],
   "source": [
    "df_ = pd.read_excel('gezinomi.xlsx')\n",
    "df = df_.copy() "
   ]
  },
  {
   "cell_type": "code",
   "execution_count": 3,
   "metadata": {},
   "outputs": [
    {
     "name": "stdout",
     "output_type": "stream",
     "text": [
      "_____ INFO _____\n",
      "<class 'pandas.core.frame.DataFrame'>\n",
      "RangeIndex: 59164 entries, 0 to 59163\n",
      "Data columns (total 9 columns):\n",
      " #   Column              Non-Null Count  Dtype         \n",
      "---  ------              --------------  -----         \n",
      " 0   SaleId              59164 non-null  int64         \n",
      " 1   SaleDate            59164 non-null  datetime64[ns]\n",
      " 2   CheckInDate         59164 non-null  datetime64[ns]\n",
      " 3   Price               59151 non-null  float64       \n",
      " 4   ConceptName         59164 non-null  object        \n",
      " 5   SaleCityName        59164 non-null  object        \n",
      " 6   CInDay              59164 non-null  object        \n",
      " 7   SaleCheckInDayDiff  59164 non-null  int64         \n",
      " 8   Seasons             59164 non-null  object        \n",
      "dtypes: datetime64[ns](2), float64(1), int64(2), object(4)\n",
      "memory usage: 4.1+ MB\n",
      "None\n",
      "\n",
      "_____ DESCRIPTION _____\n",
      "                      count           mean           std      min            25%            50%            75%           max\n",
      "SaleId              59164.0  302675.795433  87943.222683  51707.0  274038.500000  321607.000000  367373.000000  415122.00000\n",
      "Price               59151.0      61.345057     51.384617      0.0      35.343035      54.261294      77.962578    4880.47138\n",
      "SaleCheckInDayDiff  59164.0      31.840173     51.493509      0.0       2.000000      10.000000      34.000000     630.00000\n",
      "\n",
      "_____ SHAPE _____\n",
      "(59164, 9)\n",
      "\n",
      "_____ MISSING _____\n",
      "Price                 13\n",
      "SaleId                 0\n",
      "SaleDate               0\n",
      "CheckInDate            0\n",
      "ConceptName            0\n",
      "SaleCityName           0\n",
      "CInDay                 0\n",
      "SaleCheckInDayDiff     0\n",
      "Seasons                0\n",
      "dtype: int64\n",
      "\n",
      "_____ QUANTILE _____\n",
      "                            0.01          0.05           0.10           0.25           0.50           0.75          0.90          0.95           0.99          1.00\n",
      "SaleId              60655.560000  97069.150000  151668.200000  274038.500000  321607.000000  367373.000000  393616.00000  401622.85000  411238.850000  415122.00000\n",
      "Price                  13.716655     19.640853      24.458104      35.343035      54.261294      77.962578     106.30137     125.45621     172.749473    4880.47138\n",
      "SaleCheckInDayDiff      0.000000      0.000000       1.000000       2.000000      10.000000      34.000000     103.00000     157.00000     223.000000     630.00000\n",
      "\n",
      "_____ UNIQUE _____\n",
      "SaleId                51861\n",
      "SaleDate               2314\n",
      "CheckInDate            2173\n",
      "Price                 19642\n",
      "ConceptName               3\n",
      "SaleCityName              6\n",
      "CInDay                    7\n",
      "SaleCheckInDayDiff      309\n",
      "Seasons                   2\n",
      "dtype: int64\n",
      "\n",
      "_____ HEAD _____\n",
      "   SaleId   SaleDate CheckInDate       Price     ConceptName SaleCityName    CInDay  SaleCheckInDayDiff Seasons\n",
      "0  415122 2022-12-03  2022-12-03   79.304029    Herşey Dahil      Antalya  Saturday                   0     Low\n",
      "1  415103 2022-12-03  2022-12-03   45.970696  Yarım Pansiyon      Antalya  Saturday                   0     Low\n",
      "2  404034 2022-09-12  2022-09-13   77.838828    Herşey Dahil      Antalya   Tuesday                   1    High\n",
      "3  415094 2022-12-03  2022-12-10  222.710623  Yarım Pansiyon        İzmir  Saturday                   7     Low\n",
      "4  414951 2022-12-01  2022-12-03  140.476190  Yarım Pansiyon        İzmir  Saturday                   2     Low\n",
      "\n",
      "_____ TAIL _____\n",
      "       SaleId   SaleDate CheckInDate       Price     ConceptName SaleCityName     CInDay  SaleCheckInDayDiff Seasons\n",
      "59159   51817 2016-01-05  2016-10-10   54.304636    Herşey Dahil      Antalya     Monday                 279     Low\n",
      "59160   51816 2016-01-05  2016-10-10   54.304636    Herşey Dahil      Antalya     Monday                 279     Low\n",
      "59161   51814 2016-01-05  2016-01-06   40.562914    Herşey Dahil        Diğer  Wednesday                   1     Low\n",
      "59162   51736 2016-01-04  2016-01-05   69.847682  Yarım Pansiyon        Diğer    Tuesday                   1     Low\n",
      "59163   51731 2016-01-04  2016-08-22  158.940397    Herşey Dahil      Antalya     Monday                 231    High\n",
      "\n",
      "_____ SAMPLE _____\n",
      "       SaleId   SaleDate CheckInDate      Price   ConceptName SaleCityName    CInDay  SaleCheckInDayDiff Seasons\n",
      "3869   399889 2022-08-26  2022-09-03  50.549451  Herşey Dahil        Aydın  Saturday                   8    High\n",
      "26954  330688 2021-08-29  2021-08-30  59.857838  Herşey Dahil        Aydın    Monday                   1    High\n",
      "30224  322991 2021-08-03  2021-08-08  50.130939  Herşey Dahil        Aydın    Sunday                   5    High\n",
      "20096  354298 2022-03-16  2022-03-22  50.584249  Herşey Dahil      Antalya   Tuesday                   6     Low\n",
      "49927  228820 2019-07-27  2019-08-12  64.444444  Herşey Dahil      Antalya    Monday                  16    High\n",
      "\n"
     ]
    }
   ],
   "source": [
    "def general_information(df):\n",
    "    print(\"_____ INFO _____\")\n",
    "    print(df.info(), end='\\n\\n')\n",
    "    print(\"_____ DESCRIPTION _____\")\n",
    "    print(df.describe().T, end='\\n\\n')\n",
    "    print(\"_____ SHAPE _____\")\n",
    "    print(df.shape,end ='\\n\\n')\n",
    "    print(\"_____ MISSING _____\")\n",
    "    print(df.isnull().sum().sort_values(ascending=False), end='\\n\\n')\n",
    "    print(\"_____ QUANTILE _____\")\n",
    "    print(df.quantile([0.01, 0.05, 0.10, 0.25, 0.50, 0.75, 0.90, 0.95, 0.99, 1]).T, end='\\n\\n')\n",
    "    print(\"_____ UNIQUE _____\")\n",
    "    print(df.nunique(), end='\\n\\n')\n",
    "    print(\"_____ HEAD _____\")\n",
    "    print(df.head(), end='\\n\\n')\n",
    "    print(\"_____ TAIL _____\")\n",
    "    print(df.tail(), end='\\n\\n')\n",
    "    print(\"_____ SAMPLE _____\")\n",
    "    print(df.sample(5), end='\\n\\n')\n",
    "\n",
    "general_information(df)"
   ]
  },
  {
   "cell_type": "code",
   "execution_count": 4,
   "metadata": {},
   "outputs": [
    {
     "data": {
      "text/plain": [
       "array(['Antalya', 'İzmir', 'Diğer', 'Aydın', 'Muğla', 'Girne'],\n",
       "      dtype=object)"
      ]
     },
     "execution_count": 4,
     "metadata": {},
     "output_type": "execute_result"
    }
   ],
   "source": [
    "df.SaleCityName.unique()"
   ]
  },
  {
   "cell_type": "code",
   "execution_count": 5,
   "metadata": {},
   "outputs": [
    {
     "data": {
      "text/plain": [
       "Antalya    31649\n",
       "Muğla      10662\n",
       "Aydın      10646\n",
       "Diğer       3245\n",
       "İzmir       2507\n",
       "Girne        455\n",
       "Name: SaleCityName, dtype: int64"
      ]
     },
     "execution_count": 5,
     "metadata": {},
     "output_type": "execute_result"
    }
   ],
   "source": [
    "df.SaleCityName.value_counts()"
   ]
  },
  {
   "cell_type": "code",
   "execution_count": 6,
   "metadata": {},
   "outputs": [
    {
     "data": {
      "text/plain": [
       "array(['Herşey Dahil', 'Yarım Pansiyon', 'Oda + Kahvaltı'], dtype=object)"
      ]
     },
     "execution_count": 6,
     "metadata": {},
     "output_type": "execute_result"
    }
   ],
   "source": [
    "df.ConceptName.unique()"
   ]
  },
  {
   "cell_type": "code",
   "execution_count": 7,
   "metadata": {},
   "outputs": [
    {
     "data": {
      "text/plain": [
       "Herşey Dahil      53186\n",
       "Yarım Pansiyon     3559\n",
       "Oda + Kahvaltı     2419\n",
       "Name: ConceptName, dtype: int64"
      ]
     },
     "execution_count": 7,
     "metadata": {},
     "output_type": "execute_result"
    }
   ],
   "source": [
    "df.ConceptName.value_counts()"
   ]
  },
  {
   "cell_type": "code",
   "execution_count": 8,
   "metadata": {},
   "outputs": [
    {
     "data": {
      "text/plain": [
       "SaleCityName\n",
       "Antalya    2.041911e+06\n",
       "Aydın      5.732960e+05\n",
       "Diğer      1.545723e+05\n",
       "Girne      2.706503e+04\n",
       "Muğla      6.658422e+05\n",
       "İzmir      1.659348e+05\n",
       "Name: Price, dtype: float64"
      ]
     },
     "execution_count": 8,
     "metadata": {},
     "output_type": "execute_result"
    }
   ],
   "source": [
    "df.groupby('SaleCityName')['Price'].sum()"
   ]
  },
  {
   "cell_type": "code",
   "execution_count": 9,
   "metadata": {},
   "outputs": [
    {
     "data": {
      "text/plain": [
       "ConceptName\n",
       "Herşey Dahil      53180\n",
       "Oda + Kahvaltı     2414\n",
       "Yarım Pansiyon     3557\n",
       "Name: Price, dtype: int64"
      ]
     },
     "execution_count": 9,
     "metadata": {},
     "output_type": "execute_result"
    }
   ],
   "source": [
    "df.groupby('ConceptName')['Price'].count()"
   ]
  },
  {
   "cell_type": "code",
   "execution_count": 10,
   "metadata": {},
   "outputs": [
    {
     "data": {
      "text/plain": [
       "SaleCityName\n",
       "Antalya    64.521474\n",
       "Aydın      53.855896\n",
       "Diğer      47.707497\n",
       "Girne      59.483579\n",
       "Muğla      62.461746\n",
       "İzmir      66.267905\n",
       "Name: Price, dtype: float64"
      ]
     },
     "execution_count": 10,
     "metadata": {},
     "output_type": "execute_result"
    }
   ],
   "source": [
    "df.groupby('SaleCityName')['Price'].mean()"
   ]
  },
  {
   "cell_type": "code",
   "execution_count": 11,
   "metadata": {},
   "outputs": [
    {
     "data": {
      "text/plain": [
       "ConceptName\n",
       "Herşey Dahil      62.672260\n",
       "Oda + Kahvaltı    50.252010\n",
       "Yarım Pansiyon    49.030742\n",
       "Name: Price, dtype: float64"
      ]
     },
     "execution_count": 11,
     "metadata": {},
     "output_type": "execute_result"
    }
   ],
   "source": [
    "df.groupby('ConceptName')['Price'].mean()"
   ]
  },
  {
   "cell_type": "code",
   "execution_count": 12,
   "metadata": {},
   "outputs": [
    {
     "data": {
      "text/plain": [
       "SaleCityName  ConceptName   \n",
       "Antalya       Herşey Dahil      64.519028\n",
       "              Oda + Kahvaltı    63.504816\n",
       "              Yarım Pansiyon    67.190613\n",
       "Aydın         Herşey Dahil      53.995467\n",
       "              Oda + Kahvaltı    34.458787\n",
       "              Yarım Pansiyon    30.016543\n",
       "Diğer         Herşey Dahil      84.771093\n",
       "              Oda + Kahvaltı    37.599082\n",
       "              Yarım Pansiyon    42.113440\n",
       "Girne         Herşey Dahil      97.680970\n",
       "              Oda + Kahvaltı    39.775536\n",
       "              Yarım Pansiyon    53.247838\n",
       "Muğla         Herşey Dahil      63.020053\n",
       "              Oda + Kahvaltı    59.037763\n",
       "              Yarım Pansiyon    45.120924\n",
       "İzmir         Herşey Dahil      74.701519\n",
       "              Oda + Kahvaltı    41.320342\n",
       "              Yarım Pansiyon    59.610053\n",
       "Name: Price, dtype: float64"
      ]
     },
     "execution_count": 12,
     "metadata": {},
     "output_type": "execute_result"
    }
   ],
   "source": [
    "df.groupby(['SaleCityName', 'ConceptName'])['Price'].mean()"
   ]
  },
  {
   "cell_type": "code",
   "execution_count": 13,
   "metadata": {},
   "outputs": [],
   "source": [
    "df[\"EB_Score\"] = pd.cut(df.SaleCheckInDayDiff, bins=[-1, 7, 30, 90, df.SaleCheckInDayDiff.max()], labels = [\"Last Minuters\", \"Potential Planners\", \"Planners\", \"Early bookers\"])"
   ]
  },
  {
   "cell_type": "code",
   "execution_count": 14,
   "metadata": {},
   "outputs": [
    {
     "data": {
      "text/html": [
       "<div>\n",
       "<style scoped>\n",
       "    .dataframe tbody tr th:only-of-type {\n",
       "        vertical-align: middle;\n",
       "    }\n",
       "\n",
       "    .dataframe tbody tr th {\n",
       "        vertical-align: top;\n",
       "    }\n",
       "\n",
       "    .dataframe thead tr th {\n",
       "        text-align: left;\n",
       "    }\n",
       "\n",
       "    .dataframe thead tr:last-of-type th {\n",
       "        text-align: right;\n",
       "    }\n",
       "</style>\n",
       "<table border=\"1\" class=\"dataframe\">\n",
       "  <thead>\n",
       "    <tr>\n",
       "      <th></th>\n",
       "      <th></th>\n",
       "      <th></th>\n",
       "      <th colspan=\"2\" halign=\"left\">Price</th>\n",
       "    </tr>\n",
       "    <tr>\n",
       "      <th></th>\n",
       "      <th></th>\n",
       "      <th></th>\n",
       "      <th>mean</th>\n",
       "      <th>count</th>\n",
       "    </tr>\n",
       "    <tr>\n",
       "      <th>SaleCityName</th>\n",
       "      <th>ConceptName</th>\n",
       "      <th>EB_Score</th>\n",
       "      <th></th>\n",
       "      <th></th>\n",
       "    </tr>\n",
       "  </thead>\n",
       "  <tbody>\n",
       "    <tr>\n",
       "      <th rowspan=\"5\" valign=\"top\">Antalya</th>\n",
       "      <th rowspan=\"4\" valign=\"top\">Herşey Dahil</th>\n",
       "      <th>Last Minuters</th>\n",
       "      <td>62.752916</td>\n",
       "      <td>14148</td>\n",
       "    </tr>\n",
       "    <tr>\n",
       "      <th>Potential Planners</th>\n",
       "      <td>64.903700</td>\n",
       "      <td>8874</td>\n",
       "    </tr>\n",
       "    <tr>\n",
       "      <th>Planners</th>\n",
       "      <td>67.879960</td>\n",
       "      <td>4490</td>\n",
       "    </tr>\n",
       "    <tr>\n",
       "      <th>Early bookers</th>\n",
       "      <td>66.494885</td>\n",
       "      <td>3281</td>\n",
       "    </tr>\n",
       "    <tr>\n",
       "      <th>Oda + Kahvaltı</th>\n",
       "      <th>Last Minuters</th>\n",
       "      <td>65.353740</td>\n",
       "      <td>503</td>\n",
       "    </tr>\n",
       "    <tr>\n",
       "      <th>...</th>\n",
       "      <th>...</th>\n",
       "      <th>...</th>\n",
       "      <td>...</td>\n",
       "      <td>...</td>\n",
       "    </tr>\n",
       "    <tr>\n",
       "      <th rowspan=\"5\" valign=\"top\">İzmir</th>\n",
       "      <th>Oda + Kahvaltı</th>\n",
       "      <th>Early bookers</th>\n",
       "      <td>66.928111</td>\n",
       "      <td>3</td>\n",
       "    </tr>\n",
       "    <tr>\n",
       "      <th rowspan=\"4\" valign=\"top\">Yarım Pansiyon</th>\n",
       "      <th>Last Minuters</th>\n",
       "      <td>57.788126</td>\n",
       "      <td>636</td>\n",
       "    </tr>\n",
       "    <tr>\n",
       "      <th>Potential Planners</th>\n",
       "      <td>64.804043</td>\n",
       "      <td>198</td>\n",
       "    </tr>\n",
       "    <tr>\n",
       "      <th>Planners</th>\n",
       "      <td>60.507887</td>\n",
       "      <td>47</td>\n",
       "    </tr>\n",
       "    <tr>\n",
       "      <th>Early bookers</th>\n",
       "      <td>65.905583</td>\n",
       "      <td>14</td>\n",
       "    </tr>\n",
       "  </tbody>\n",
       "</table>\n",
       "<p>72 rows × 2 columns</p>\n",
       "</div>"
      ],
      "text/plain": [
       "                                                    Price       \n",
       "                                                     mean  count\n",
       "SaleCityName ConceptName    EB_Score                            \n",
       "Antalya      Herşey Dahil   Last Minuters       62.752916  14148\n",
       "                            Potential Planners  64.903700   8874\n",
       "                            Planners            67.879960   4490\n",
       "                            Early bookers       66.494885   3281\n",
       "             Oda + Kahvaltı Last Minuters       65.353740    503\n",
       "...                                                   ...    ...\n",
       "İzmir        Oda + Kahvaltı Early bookers       66.928111      3\n",
       "             Yarım Pansiyon Last Minuters       57.788126    636\n",
       "                            Potential Planners  64.804043    198\n",
       "                            Planners            60.507887     47\n",
       "                            Early bookers       65.905583     14\n",
       "\n",
       "[72 rows x 2 columns]"
      ]
     },
     "execution_count": 14,
     "metadata": {},
     "output_type": "execute_result"
    }
   ],
   "source": [
    "new_df = df.groupby(['SaleCityName', 'ConceptName', 'EB_Score']).agg({'Price': ['mean', 'count']})\n",
    "new_df"
   ]
  },
  {
   "cell_type": "code",
   "execution_count": 15,
   "metadata": {},
   "outputs": [
    {
     "data": {
      "text/html": [
       "<div>\n",
       "<style scoped>\n",
       "    .dataframe tbody tr th:only-of-type {\n",
       "        vertical-align: middle;\n",
       "    }\n",
       "\n",
       "    .dataframe tbody tr th {\n",
       "        vertical-align: top;\n",
       "    }\n",
       "\n",
       "    .dataframe thead tr th {\n",
       "        text-align: left;\n",
       "    }\n",
       "\n",
       "    .dataframe thead tr:last-of-type th {\n",
       "        text-align: right;\n",
       "    }\n",
       "</style>\n",
       "<table border=\"1\" class=\"dataframe\">\n",
       "  <thead>\n",
       "    <tr>\n",
       "      <th></th>\n",
       "      <th></th>\n",
       "      <th></th>\n",
       "      <th>Price</th>\n",
       "    </tr>\n",
       "    <tr>\n",
       "      <th></th>\n",
       "      <th></th>\n",
       "      <th></th>\n",
       "      <th>mean</th>\n",
       "    </tr>\n",
       "    <tr>\n",
       "      <th>SaleCityName</th>\n",
       "      <th>ConceptName</th>\n",
       "      <th>Seasons</th>\n",
       "      <th></th>\n",
       "    </tr>\n",
       "  </thead>\n",
       "  <tbody>\n",
       "    <tr>\n",
       "      <th rowspan=\"2\" valign=\"top\">Girne</th>\n",
       "      <th rowspan=\"2\" valign=\"top\">Herşey Dahil</th>\n",
       "      <th>High</th>\n",
       "      <td>103.935448</td>\n",
       "    </tr>\n",
       "    <tr>\n",
       "      <th>Low</th>\n",
       "      <td>90.935944</td>\n",
       "    </tr>\n",
       "    <tr>\n",
       "      <th>İzmir</th>\n",
       "      <th>Yarım Pansiyon</th>\n",
       "      <th>High</th>\n",
       "      <td>87.657303</td>\n",
       "    </tr>\n",
       "    <tr>\n",
       "      <th rowspan=\"2\" valign=\"top\">Diğer</th>\n",
       "      <th rowspan=\"2\" valign=\"top\">Herşey Dahil</th>\n",
       "      <th>Low</th>\n",
       "      <td>87.310882</td>\n",
       "    </tr>\n",
       "    <tr>\n",
       "      <th>High</th>\n",
       "      <td>83.787273</td>\n",
       "    </tr>\n",
       "  </tbody>\n",
       "</table>\n",
       "</div>"
      ],
      "text/plain": [
       "                                          Price\n",
       "                                           mean\n",
       "SaleCityName ConceptName    Seasons            \n",
       "Girne        Herşey Dahil   High     103.935448\n",
       "                            Low       90.935944\n",
       "İzmir        Yarım Pansiyon High      87.657303\n",
       "Diğer        Herşey Dahil   Low       87.310882\n",
       "                            High      83.787273"
      ]
     },
     "execution_count": 15,
     "metadata": {},
     "output_type": "execute_result"
    }
   ],
   "source": [
    "agg_df = df.groupby(['SaleCityName', 'ConceptName', 'Seasons']).agg({'Price': ['mean']}).sort_values(by=[('Price', 'mean')], ascending=False)\n",
    "agg_df.head()"
   ]
  },
  {
   "cell_type": "code",
   "execution_count": 16,
   "metadata": {},
   "outputs": [],
   "source": [
    "agg_df.index\n",
    "agg_df.reset_index(inplace = True)"
   ]
  },
  {
   "cell_type": "code",
   "execution_count": 17,
   "metadata": {},
   "outputs": [
    {
     "data": {
      "text/html": [
       "<div>\n",
       "<style scoped>\n",
       "    .dataframe tbody tr th:only-of-type {\n",
       "        vertical-align: middle;\n",
       "    }\n",
       "\n",
       "    .dataframe tbody tr th {\n",
       "        vertical-align: top;\n",
       "    }\n",
       "\n",
       "    .dataframe thead tr th {\n",
       "        text-align: left;\n",
       "    }\n",
       "</style>\n",
       "<table border=\"1\" class=\"dataframe\">\n",
       "  <thead>\n",
       "    <tr>\n",
       "      <th></th>\n",
       "      <th>SaleCityName</th>\n",
       "      <th>ConceptName</th>\n",
       "      <th>Seasons</th>\n",
       "      <th>Price</th>\n",
       "      <th>sales_level_based</th>\n",
       "    </tr>\n",
       "    <tr>\n",
       "      <th></th>\n",
       "      <th></th>\n",
       "      <th></th>\n",
       "      <th></th>\n",
       "      <th>mean</th>\n",
       "      <th></th>\n",
       "    </tr>\n",
       "  </thead>\n",
       "  <tbody>\n",
       "    <tr>\n",
       "      <th>0</th>\n",
       "      <td>Girne</td>\n",
       "      <td>Herşey Dahil</td>\n",
       "      <td>High</td>\n",
       "      <td>103.935448</td>\n",
       "      <td>GIRNE_HERŞEY DAHIL_HIGH</td>\n",
       "    </tr>\n",
       "    <tr>\n",
       "      <th>1</th>\n",
       "      <td>Girne</td>\n",
       "      <td>Herşey Dahil</td>\n",
       "      <td>Low</td>\n",
       "      <td>90.935944</td>\n",
       "      <td>GIRNE_HERŞEY DAHIL_LOW</td>\n",
       "    </tr>\n",
       "    <tr>\n",
       "      <th>2</th>\n",
       "      <td>İzmir</td>\n",
       "      <td>Yarım Pansiyon</td>\n",
       "      <td>High</td>\n",
       "      <td>87.657303</td>\n",
       "      <td>İZMIR_YARIM PANSIYON_HIGH</td>\n",
       "    </tr>\n",
       "    <tr>\n",
       "      <th>3</th>\n",
       "      <td>Diğer</td>\n",
       "      <td>Herşey Dahil</td>\n",
       "      <td>Low</td>\n",
       "      <td>87.310882</td>\n",
       "      <td>DIĞER_HERŞEY DAHIL_LOW</td>\n",
       "    </tr>\n",
       "    <tr>\n",
       "      <th>4</th>\n",
       "      <td>Diğer</td>\n",
       "      <td>Herşey Dahil</td>\n",
       "      <td>High</td>\n",
       "      <td>83.787273</td>\n",
       "      <td>DIĞER_HERŞEY DAHIL_HIGH</td>\n",
       "    </tr>\n",
       "  </tbody>\n",
       "</table>\n",
       "</div>"
      ],
      "text/plain": [
       "  SaleCityName     ConceptName Seasons       Price          sales_level_based\n",
       "                                              mean                           \n",
       "0        Girne    Herşey Dahil    High  103.935448    GIRNE_HERŞEY DAHIL_HIGH\n",
       "1        Girne    Herşey Dahil     Low   90.935944     GIRNE_HERŞEY DAHIL_LOW\n",
       "2        İzmir  Yarım Pansiyon    High   87.657303  İZMIR_YARIM PANSIYON_HIGH\n",
       "3        Diğer    Herşey Dahil     Low   87.310882     DIĞER_HERŞEY DAHIL_LOW\n",
       "4        Diğer    Herşey Dahil    High   83.787273    DIĞER_HERŞEY DAHIL_HIGH"
      ]
     },
     "execution_count": 17,
     "metadata": {},
     "output_type": "execute_result"
    }
   ],
   "source": [
    "agg_df[\"sales_level_based\"] = (agg_df.SaleCityName + \"_\" + agg_df.ConceptName + \"_\" + agg_df.Seasons).apply(lambda x: x.upper())\n",
    "agg_df.head()"
   ]
  },
  {
   "cell_type": "code",
   "execution_count": 18,
   "metadata": {},
   "outputs": [],
   "source": [
    "agg_df.columns = agg_df.columns.droplevel(1)"
   ]
  },
  {
   "cell_type": "code",
   "execution_count": 19,
   "metadata": {},
   "outputs": [
    {
     "data": {
      "text/html": [
       "<div>\n",
       "<style scoped>\n",
       "    .dataframe tbody tr th:only-of-type {\n",
       "        vertical-align: middle;\n",
       "    }\n",
       "\n",
       "    .dataframe tbody tr th {\n",
       "        vertical-align: top;\n",
       "    }\n",
       "\n",
       "    .dataframe thead tr th {\n",
       "        text-align: left;\n",
       "    }\n",
       "\n",
       "    .dataframe thead tr:last-of-type th {\n",
       "        text-align: right;\n",
       "    }\n",
       "</style>\n",
       "<table border=\"1\" class=\"dataframe\">\n",
       "  <thead>\n",
       "    <tr>\n",
       "      <th></th>\n",
       "      <th colspan=\"3\" halign=\"left\">Price</th>\n",
       "    </tr>\n",
       "    <tr>\n",
       "      <th></th>\n",
       "      <th>mean</th>\n",
       "      <th>max</th>\n",
       "      <th>sum</th>\n",
       "    </tr>\n",
       "    <tr>\n",
       "      <th>SEGMENT</th>\n",
       "      <th></th>\n",
       "      <th></th>\n",
       "      <th></th>\n",
       "    </tr>\n",
       "  </thead>\n",
       "  <tbody>\n",
       "    <tr>\n",
       "      <th>D</th>\n",
       "      <td>33.366288</td>\n",
       "      <td>39.479630</td>\n",
       "      <td>300.296592</td>\n",
       "    </tr>\n",
       "    <tr>\n",
       "      <th>C</th>\n",
       "      <td>44.887654</td>\n",
       "      <td>54.141797</td>\n",
       "      <td>403.988887</td>\n",
       "    </tr>\n",
       "    <tr>\n",
       "      <th>B</th>\n",
       "      <td>60.274498</td>\n",
       "      <td>64.920065</td>\n",
       "      <td>542.470478</td>\n",
       "    </tr>\n",
       "    <tr>\n",
       "      <th>A</th>\n",
       "      <td>82.467833</td>\n",
       "      <td>103.935448</td>\n",
       "      <td>742.210498</td>\n",
       "    </tr>\n",
       "  </tbody>\n",
       "</table>\n",
       "</div>"
      ],
      "text/plain": [
       "             Price                        \n",
       "              mean         max         sum\n",
       "SEGMENT                                   \n",
       "D        33.366288   39.479630  300.296592\n",
       "C        44.887654   54.141797  403.988887\n",
       "B        60.274498   64.920065  542.470478\n",
       "A        82.467833  103.935448  742.210498"
      ]
     },
     "execution_count": 19,
     "metadata": {},
     "output_type": "execute_result"
    }
   ],
   "source": [
    "agg_df[\"SEGMENT\"] = pd.qcut(agg_df[\"Price\"], 4, labels=[\"D\", \"C\", \"B\", \"A\"])\n",
    "agg_df.groupby(\"SEGMENT\").agg({\"Price\": [\"mean\", \"max\", \"sum\"]})"
   ]
  },
  {
   "cell_type": "code",
   "execution_count": 20,
   "metadata": {},
   "outputs": [
    {
     "data": {
      "text/html": [
       "<div>\n",
       "<style scoped>\n",
       "    .dataframe tbody tr th:only-of-type {\n",
       "        vertical-align: middle;\n",
       "    }\n",
       "\n",
       "    .dataframe tbody tr th {\n",
       "        vertical-align: top;\n",
       "    }\n",
       "\n",
       "    .dataframe thead th {\n",
       "        text-align: right;\n",
       "    }\n",
       "</style>\n",
       "<table border=\"1\" class=\"dataframe\">\n",
       "  <thead>\n",
       "    <tr style=\"text-align: right;\">\n",
       "      <th></th>\n",
       "      <th>SaleCityName</th>\n",
       "      <th>ConceptName</th>\n",
       "      <th>Seasons</th>\n",
       "      <th>Price</th>\n",
       "      <th>sales_level_based</th>\n",
       "      <th>SEGMENT</th>\n",
       "    </tr>\n",
       "  </thead>\n",
       "  <tbody>\n",
       "    <tr>\n",
       "      <th>9</th>\n",
       "      <td>Antalya</td>\n",
       "      <td>Herşey Dahil</td>\n",
       "      <td>High</td>\n",
       "      <td>64.920065</td>\n",
       "      <td>ANTALYA_HERŞEY DAHIL_HIGH</td>\n",
       "      <td>B</td>\n",
       "    </tr>\n",
       "  </tbody>\n",
       "</table>\n",
       "</div>"
      ],
      "text/plain": [
       "  SaleCityName   ConceptName Seasons      Price          sales_level_based SEGMENT\n",
       "9      Antalya  Herşey Dahil    High  64.920065  ANTALYA_HERŞEY DAHIL_HIGH       B"
      ]
     },
     "execution_count": 20,
     "metadata": {},
     "output_type": "execute_result"
    }
   ],
   "source": [
    "customer1 = \"ANTALYA_HERŞEY DAHIL_HIGH\"\n",
    "agg_df[agg_df.sales_level_based == customer1]"
   ]
  },
  {
   "cell_type": "code",
   "execution_count": 21,
   "metadata": {},
   "outputs": [
    {
     "data": {
      "text/html": [
       "<div>\n",
       "<style scoped>\n",
       "    .dataframe tbody tr th:only-of-type {\n",
       "        vertical-align: middle;\n",
       "    }\n",
       "\n",
       "    .dataframe tbody tr th {\n",
       "        vertical-align: top;\n",
       "    }\n",
       "\n",
       "    .dataframe thead th {\n",
       "        text-align: right;\n",
       "    }\n",
       "</style>\n",
       "<table border=\"1\" class=\"dataframe\">\n",
       "  <thead>\n",
       "    <tr style=\"text-align: right;\">\n",
       "      <th></th>\n",
       "      <th>SaleCityName</th>\n",
       "      <th>ConceptName</th>\n",
       "      <th>Seasons</th>\n",
       "      <th>Price</th>\n",
       "      <th>sales_level_based</th>\n",
       "      <th>SEGMENT</th>\n",
       "    </tr>\n",
       "  </thead>\n",
       "  <tbody>\n",
       "    <tr>\n",
       "      <th>19</th>\n",
       "      <td>Girne</td>\n",
       "      <td>Yarım Pansiyon</td>\n",
       "      <td>Low</td>\n",
       "      <td>48.578903</td>\n",
       "      <td>GIRNE_YARIM PANSIYON_LOW</td>\n",
       "      <td>C</td>\n",
       "    </tr>\n",
       "  </tbody>\n",
       "</table>\n",
       "</div>"
      ],
      "text/plain": [
       "   SaleCityName     ConceptName Seasons      Price         sales_level_based SEGMENT\n",
       "19        Girne  Yarım Pansiyon     Low  48.578903  GIRNE_YARIM PANSIYON_LOW       C"
      ]
     },
     "execution_count": 21,
     "metadata": {},
     "output_type": "execute_result"
    }
   ],
   "source": [
    "customer2 = \"GIRNE_YARIM PANSIYON_LOW\"\n",
    "agg_df[agg_df.sales_level_based == customer2]"
   ]
  }
 ],
 "metadata": {
  "kernelspec": {
   "display_name": "base",
   "language": "python",
   "name": "python3"
  },
  "language_info": {
   "codemirror_mode": {
    "name": "ipython",
    "version": 3
   },
   "file_extension": ".py",
   "mimetype": "text/x-python",
   "name": "python",
   "nbconvert_exporter": "python",
   "pygments_lexer": "ipython3",
   "version": "3.9.15"
  },
  "orig_nbformat": 4
 },
 "nbformat": 4,
 "nbformat_minor": 2
}
